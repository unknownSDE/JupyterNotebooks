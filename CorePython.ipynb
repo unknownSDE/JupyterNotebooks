{
 "cells": [
  {
   "cell_type": "code",
   "execution_count": 20,
   "id": "expanded-landing",
   "metadata": {},
   "outputs": [],
   "source": [
    "'''In this library we are writing pracitce codes for core python'''\n",
    "import math\n",
    "\n",
    "#function to get square root of the integers\n",
    "def square_root(x):\n",
    "    return(math.sqrt(x))\n",
    "\n",
    "#get nth rooth of given number\n",
    "def nth_root(number, n):\n",
    "    '''fetch nth root for given number'''\n",
    "    #print(number)\n",
    "    return number **(1/n)\n",
    "\n",
    "def get_user_name():\n",
    "    ''' return user name after reading from cmd'''\n",
    "    name = input(\"please enter your name: \")\n",
    "    return (name)\n",
    "\n",
    "#give a number to this funciton\n",
    "#and this will return you a beautiful pattern\n",
    "#in square format\n",
    "def print_pattern(n):\n",
    "    '''print pattern for given value n'''\n",
    "    for i in range(0,n):\n",
    "        #print(i)\n",
    "        for k in range(n-i):\n",
    "            print(\" \", end = \"\")\n",
    "        for j in range(i+1):\n",
    "            #print(i)\n",
    "            print(\"*\", end =\" \")\n",
    "            \n",
    "        print(\"\\n\")\n",
    "        \n",
    "#print(__name__)\n",
    "        "
   ]
  },
  {
   "cell_type": "code",
   "execution_count": 22,
   "id": "right-great",
   "metadata": {},
   "outputs": [
    {
     "name": "stdout",
     "output_type": "stream",
     "text": [
      "[1, 'Hariom']\n",
      "Hariom\n"
     ]
    }
   ],
   "source": [
    "mylist = []\n",
    "mylist.append(1)\n",
    "mylist.append(\"Hariom\")\n",
    "print(mylist)\n",
    "print(mylist[1])"
   ]
  },
  {
   "cell_type": "code",
   "execution_count": 24,
   "id": "infrared-thread",
   "metadata": {},
   "outputs": [
    {
     "name": "stdout",
     "output_type": "stream",
     "text": [
      "2\n",
      "16\n"
     ]
    }
   ],
   "source": [
    "#math operations\n",
    "rem = 11%3\n",
    "print(rem)\n",
    "\n",
    "square = 4 ** 2\n",
    "print(square)"
   ]
  },
  {
   "cell_type": "code",
   "execution_count": 27,
   "id": "refined-hearing",
   "metadata": {},
   "outputs": [
    {
     "name": "stdout",
     "output_type": "stream",
     "text": [
      "Hello, Hariom!\n",
      "Hariom is 23 years old.\n"
     ]
    }
   ],
   "source": [
    "#string formatting\n",
    "'''%s - String (or any object with a string representation, like numbers)\n",
    "\n",
    "%d - Integers\n",
    "\n",
    "%f - Floating point numbers\n",
    "\n",
    "%.<number of digits>f - Floating point numbers with a fixed amount of digits to the right of the dot.\n",
    "\n",
    "%x/%X - Integers in hex representation (lowercase/uppercase)'''\n",
    "name = \"Hariom\"\n",
    "age = 23\n",
    "print(\"Hello, %s!\" % name)\n",
    "print(\"%s is %d years old.\" % (name, age))"
   ]
  },
  {
   "cell_type": "code",
   "execution_count": 37,
   "id": "numeric-luxury",
   "metadata": {},
   "outputs": [
    {
     "name": "stdout",
     "output_type": "stream",
     "text": [
      "vadaY atilaL\n",
      "LALITA YADAV\n",
      "lalita yadav\n"
     ]
    }
   ],
   "source": [
    "name = \"Lalita Yadav\"\n",
    "print(name[::-1])\n",
    "print(name.upper())\n",
    "print(name.lower())"
   ]
  },
  {
   "cell_type": "code",
   "execution_count": 41,
   "id": "amateur-scholarship",
   "metadata": {},
   "outputs": [
    {
     "name": "stdout",
     "output_type": "stream",
     "text": [
      "0\n",
      "1\n",
      "2\n",
      "3\n",
      "4\n",
      "3\n",
      "5\n",
      "7\n"
     ]
    }
   ],
   "source": [
    "'''For loops can iterate over a sequence of numbers using the \"range\" and \"xrange\" functions. \n",
    "The difference between range and xrange is that the range function returns a new list with numbers of that specified range, \n",
    "whereas xrange returns an iterator, which is more efficient. (Python 3 uses the range function, which acts like xrange).\n",
    "Note that the range function is zero based.'''\n",
    "for x in range(5):\n",
    "    print(x)\n",
    "\n",
    "# Prints out 3,5,7\n",
    "for x in range(3, 8, 2):\n",
    "    print(x)"
   ]
  },
  {
   "cell_type": "code",
   "execution_count": 48,
   "id": "experienced-colonial",
   "metadata": {},
   "outputs": [
    {
     "name": "stdout",
     "output_type": "stream",
     "text": [
      "Hariom\n",
      "Hariom\n"
     ]
    }
   ],
   "source": [
    "'''Classes and Objects\n",
    "Objects are an encapsulation of variables and functions into a single entity. \n",
    "Objects get their variables and functions from classes. Classes are essentially a template to create your objects.\n",
    "\n",
    "A very basic class would look something like this:\n",
    "\n",
    "'''\n",
    "\n",
    "class MyClass:\n",
    "    name = \"Hariom\"\n",
    "    \n",
    "    def get_name(self):\n",
    "        print(self.name)\n",
    "        \n",
    "myObject = MyClass()\n",
    "'''Now the variable \"myobjectx\" holds an object of the class \"MyClass\" that contains the variable and the function defined within the \n",
    "class called \"MyClass\".'''\n",
    "print( myObject.name )\n",
    "myObject.get_name()"
   ]
  },
  {
   "cell_type": "code",
   "execution_count": 1,
   "id": "varied-laundry",
   "metadata": {},
   "outputs": [
    {
     "name": "stdout",
     "output_type": "stream",
     "text": [
      "Help on built-in function dir in module builtins:\n",
      "\n",
      "dir(...)\n",
      "    dir([object]) -> list of strings\n",
      "    \n",
      "    If called without an argument, return the names in the current scope.\n",
      "    Else, return an alphabetized list of names comprising (some of) the attributes\n",
      "    of the given object, and of attributes reachable from it.\n",
      "    If the object supplies a method named __dir__, it will be used; otherwise\n",
      "    the default dir() logic is used and returns:\n",
      "      for a module object: the module's attributes.\n",
      "      for a class object:  its attributes, and recursively the attributes\n",
      "        of its bases.\n",
      "      for any other object: its attributes, its class's attributes, and\n",
      "        recursively the attributes of its class's base classes.\n",
      "\n"
     ]
    }
   ],
   "source": [
    "help(dir)"
   ]
  },
  {
   "cell_type": "code",
   "execution_count": 2,
   "id": "turned-economy",
   "metadata": {},
   "outputs": [
    {
     "data": {
      "text/plain": [
       "'Thu Mar 11 17:33:25 2021'"
      ]
     },
     "execution_count": 2,
     "metadata": {},
     "output_type": "execute_result"
    }
   ],
   "source": [
    "import time\n",
    "time.ctime()"
   ]
  },
  {
   "cell_type": "code",
   "execution_count": 5,
   "id": "occasional-performance",
   "metadata": {},
   "outputs": [
    {
     "name": "stdout",
     "output_type": "stream",
     "text": [
      "[59.2901051  49.56560481 35.95719382]\n"
     ]
    }
   ],
   "source": [
    "height = [1.23,1.34,1.45]\n",
    "weight = [89.7, 89, 75.6]\n",
    "\n",
    "#import numpy\n",
    "import numpy as np\n",
    "np_height = np.array(height)\n",
    "np_weight = np.array(weight)\n",
    "#print(type(np_height))\n",
    "bmi = np_weight / np_height **2\n",
    "print(bmi)"
   ]
  },
  {
   "cell_type": "code",
   "execution_count": 7,
   "id": "assigned-score",
   "metadata": {},
   "outputs": [
    {
     "name": "stdout",
     "output_type": "stream",
     "text": [
      "        country    capital    area  population\n",
      "0        Brazil   Brasilia   8.516      200.40\n",
      "1        Russia     Moscow  17.100      143.50\n",
      "2         India  New Dehli   3.286     1252.00\n",
      "3         China    Beijing   9.597     1357.00\n",
      "4  South Africa   Pretoria   1.221       52.98\n"
     ]
    }
   ],
   "source": [
    "dict = {\"country\": [\"Brazil\", \"Russia\", \"India\", \"China\", \"South Africa\"],\n",
    "       \"capital\": [\"Brasilia\", \"Moscow\", \"New Dehli\", \"Beijing\", \"Pretoria\"],\n",
    "       \"area\": [8.516, 17.10, 3.286, 9.597, 1.221],\n",
    "       \"population\": [200.4, 143.5, 1252, 1357, 52.98] }\n",
    "\n",
    "import pandas as pd\n",
    "brics = pd.DataFrame(dict)\n",
    "print(brics)"
   ]
  },
  {
   "cell_type": "code",
   "execution_count": 1,
   "id": "uniform-breath",
   "metadata": {},
   "outputs": [
    {
     "name": "stdout",
     "output_type": "stream",
     "text": [
      "Hello bais_hariom, thank you for logging in again\n",
      "Hello ps, thank you for logging in again\n",
      "Hello moni, thank you for logging in again\n",
      "Hello admin, would you like to see a status report\n",
      "Hello data, thank you for logging in again\n"
     ]
    }
   ],
   "source": [
    "userNames = [\"bais_hariom\", \"ps\", \"moni\", \"admin\", \"data\"]\n",
    "for name in userNames:\n",
    "    if(name == 'admin'):\n",
    "        print(\"Hello admin, would you like to see a status report\")\n",
    "    else:\n",
    "        print(\"Hello %s, thank you for logging in again\" %name)\n",
    "    "
   ]
  },
  {
   "cell_type": "code",
   "execution_count": 2,
   "id": "prerequisite-village",
   "metadata": {},
   "outputs": [],
   "source": [
    "class Dog:\n",
    "    '''A simple attempt to model a dog'''\n",
    "    \n",
    "    def __init__(self,name,age):\n",
    "        '''initialize name and age'''\n",
    "        self.name = name\n",
    "        self.age = age\n",
    "        \n",
    "    def sit(self):\n",
    "        '''simulate stiing dog'''\n",
    "        print(\"%s is now sitting\" %self.name )\n",
    "        \n",
    "    def roll_over(self):\n",
    "        '''roll over simulation'''\n",
    "        print(\"%s rolled over !\" %self.name)\n",
    "        "
   ]
  },
  {
   "cell_type": "code",
   "execution_count": 7,
   "id": "postal-jerusalem",
   "metadata": {},
   "outputs": [
    {
     "name": "stdout",
     "output_type": "stream",
     "text": [
      "my dog's name is Tommy\n",
      "my dog is 5 years old\n",
      "Tommy is now sitting\n",
      "Tommy rolled over !\n"
     ]
    }
   ],
   "source": [
    "my_dog = Dog('Tommy', 5)\n",
    "print(\"my dog's name is %s\" %my_dog.name)\n",
    "print(\"my dog is %d years old\" %my_dog.age)\n",
    "my_dog.sit()\n",
    "my_dog.roll_over()"
   ]
  },
  {
   "cell_type": "code",
   "execution_count": 14,
   "id": "intelligent-party",
   "metadata": {},
   "outputs": [
    {
     "name": "stdout",
     "output_type": "stream",
     "text": [
      "Help on function sit in module __main__:\n",
      "\n",
      "sit(self)\n",
      "    simulate stiing dog\n",
      "\n"
     ]
    }
   ],
   "source": [
    "help(Dog.sit)"
   ]
  },
  {
   "cell_type": "code",
   "execution_count": 20,
   "id": "victorian-arcade",
   "metadata": {},
   "outputs": [
    {
     "ename": "IndentationError",
     "evalue": "unexpected indent (<ipython-input-20-318b3687ef76>, line 4)",
     "output_type": "error",
     "traceback": [
      "\u001b[0;36m  File \u001b[0;32m\"<ipython-input-20-318b3687ef76>\"\u001b[0;36m, line \u001b[0;32m4\u001b[0m\n\u001b[0;31m    def __init__(self, make, model, year):\u001b[0m\n\u001b[0m    ^\u001b[0m\n\u001b[0;31mIndentationError\u001b[0m\u001b[0;31m:\u001b[0m unexpected indent\n"
     ]
    }
   ],
   "source": [
    "class Car:\n",
    "       \"\"\"A simple attempt to represent a car.\"\"\"\n",
    "\n",
    "        def __init__(self, make, model, year):\n",
    "            self.make = make\n",
    "            self.model = model\n",
    "            self.year = year\n",
    "            self.odometer_reading = 0\n",
    "\n",
    "        def get_descriptive_name(self):\n",
    "            long_name = f\"{self.year} {self.make} {self.model}\"\n",
    "            return long_name.title()\n",
    "\n",
    "        def read_odometer(self):\n",
    "            print(f\"This car has {self.odometer_reading} miles on it.\")\n",
    "\n",
    "        def update_odometer(self, mileage):\n",
    "            if mileage >= self.odometer_reading:\n",
    "                self.odometer_reading = mileage\n",
    "            else:\n",
    "                print(\"You can't roll back an odometer!\")\n",
    "\n",
    "        def increment_odometer(self, miles):\n",
    "            self.odometer_reading += miles\n",
    "            \n",
    "class ElectricCar(Car):\n",
    "       \"\"\"Represent aspects of a car, specific to electric vehicles.\"\"\"\n",
    "        def __init__(self, make, model, year):\n",
    "           \"\"\"Initialize attributes of the parent class.\"\"\"\n",
    "        super().__init__(make, model, year)\n",
    "        \n",
    "    "
   ]
  },
  {
   "cell_type": "code",
   "execution_count": null,
   "id": "recreational-regular",
   "metadata": {},
   "outputs": [],
   "source": []
  }
 ],
 "metadata": {
  "kernelspec": {
   "display_name": "Python 3",
   "language": "python",
   "name": "python3"
  },
  "language_info": {
   "codemirror_mode": {
    "name": "ipython",
    "version": 3
   },
   "file_extension": ".py",
   "mimetype": "text/x-python",
   "name": "python",
   "nbconvert_exporter": "python",
   "pygments_lexer": "ipython3",
   "version": "3.8.5"
  }
 },
 "nbformat": 4,
 "nbformat_minor": 5
}
